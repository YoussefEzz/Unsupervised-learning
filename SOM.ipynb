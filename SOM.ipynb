{
 "cells": [
  {
   "cell_type": "code",
   "execution_count": 187,
   "metadata": {},
   "outputs": [
    {
     "name": "stdout",
     "output_type": "stream",
     "text": [
      "[[-3.16755250e-02 -9.91205374e+00 -5.79436176e-01 -1.04423881e+00]\n",
      " [ 2.52598694e-03  6.17245598e+00  3.28833907e+00 -1.00642749e+00]\n",
      " [ 1.83123266e-01 -3.87840555e-01  6.23646977e+00 -1.69149115e+00]\n",
      " ...\n",
      " [-6.68528740e-01 -6.07597209e-01  6.39294699e-01  4.32921341e+00]\n",
      " [-1.22710839e-01 -5.51695654e+00 -2.11117254e+00  2.20967467e+00]\n",
      " [ 7.40207379e-01 -7.49217616e+00  1.95942618e+00 -7.11991799e+00]]\n"
     ]
    }
   ],
   "source": [
    "import pandas as pd\n",
    "\n",
    "#read and parse the training set .csv features file \n",
    "df = pd.read_csv('A3-data.txt', delimiter = ',')\n",
    "\n",
    "X = df[['x', 'y', 'z', 't']]\n",
    "y = df[['class']]\n",
    "y = y.to_numpy().flatten()\n",
    "print(X.to_numpy())"
   ]
  },
  {
   "cell_type": "code",
   "execution_count": 188,
   "metadata": {},
   "outputs": [
    {
     "name": "stdout",
     "output_type": "stream",
     "text": [
      "[248 120 166 190 126 222 181 202 200  68 224 332 210 226 166 167 223 104\n",
      " 332 168  87 268 224 104 332 180 202 231 205 248 231   3 161 184 162 126\n",
      " 163 125 104 314 105 179 225 123 105 163 125 161 180 104 202 163 143 182\n",
      " 180 160 163 333 252  87 141  64  67 170 167 232 184  66 224 127 167 192\n",
      " 202 228 184 170 226 161 269 205 145 124 161  47 141 122 201 184 183 181\n",
      " 252 121 181 354 187 302 121 126 224 164 221 125 313  67 184 331  66 190\n",
      " 165 160 225 245 181  67 244 229 184 180 123  66 165 161 163 183 277 120\n",
      " 187 104  66  26 200 221  85 143  87 126 146 224 187 200 104 164  66 182\n",
      " 223  68 121 181 251 182 244  87  88 351  31 271 221 313 120 231 229 203\n",
      " 353 251 269 333 162 205 331 116 168 311  87 126 167 206 191 183 160 205\n",
      " 186 143 200 163 251 184 299 165  46 223 171  46 147 181 150 171 205 163\n",
      " 124 125   3  87 125 105 160 140  47 248 251  46 187 190 184 179 145 183\n",
      " 104 248 332 104 163 124 187 147  86  83 251 271 200 124 225 166 146 182\n",
      "  47 313 251 223 224 244 193 226 141 332 243 244 167 184 184 244 245 126\n",
      " 105 125 143   4 186 252 333 228 231 224 104 105 230 332 289 226 143 186\n",
      " 251 124 230 143 168 145 331 316 200 163 184 160 121 126 120 332 222 251\n",
      " 162 231 126 200 221 192 179 140 331 191 205 290  31 141 164 229 248 205\n",
      " 144 172 223 122 311 366 313 126 105 143 201 226 183 249  45 168  87 125\n",
      " 164 187 163 181 104 162 161 180 205 204 184 168 179 168 209 251 187 140\n",
      " 225 144 168 248 151 161 105 219 244 171 202 167 187 141 167 297 250 192]\n"
     ]
    }
   ],
   "source": [
    "from sklearn_som.som import SOM\n",
    "import numpy as np\n",
    "import matplotlib.pyplot as plt\n",
    "\n",
    "som_model = SOM(m = 20, n = 20, dim = 4)\n",
    "\n",
    "som_model.fit(X.to_numpy())\n",
    "\n",
    "som_prediction = som_model.predict(X.to_numpy())\n",
    "\n",
    "print((som_prediction))"
   ]
  },
  {
   "cell_type": "code",
   "execution_count": 189,
   "metadata": {},
   "outputs": [
    {
     "name": "stdout",
     "output_type": "stream",
     "text": [
      "[6 6]\n",
      "[6]\n",
      "[1]\n",
      "[1 6]\n",
      "[1]\n",
      "[6 6 6]\n",
      "[1 1 6]\n",
      "[1]\n",
      "[6 6 6 1 6]\n",
      "[1 6 1]\n",
      "[6 1]\n",
      "[2]\n",
      "[6]\n",
      "[1]\n",
      "[1 1 1 6 1 1 6]\n",
      "[1]\n",
      "[4 4 4 4 4 4 4 4 4 4]\n",
      "[4 4 4 4 4 6 4]\n",
      "[1]\n",
      "[5 6 5 5]\n",
      "[6 6 6 6]\n",
      "[6 6]\n",
      "[6 6]\n",
      "[4 4 4 4 4]\n",
      "[4 4 4 4 4 4 4]\n",
      "[4 4 4 4 4 4 4 4 4]\n",
      "[4]\n",
      "[6 5 5]\n",
      "[6 6 6 6 6]\n",
      "[2 2 2 2 2 2 2]\n",
      "[2 2]\n",
      "[6 6 6]\n",
      "[4 4]\n",
      "[2 2]\n",
      "[1]\n",
      "[1]\n",
      "[5 5 5 5 5]\n",
      "[5 5 5 5 5 5 5]\n",
      "[6 5 5 5]\n",
      "[2 2 2 2 2 2 2 2 6 2]\n",
      "[2 2 6 2]\n",
      "[2 2 2]\n",
      "[2 2 2]\n",
      "[2 2 2 2 2 2 2]\n",
      "[2 2 2 2 2 2 2]\n",
      "[1 1]\n",
      "[1 1 6]\n",
      "[6]\n",
      "[6 6 6 6]\n",
      "[1 5 5 5 6]\n",
      "[5 5 5 5 5 5 6]\n",
      "[6 6 6 6]\n",
      "[2 2 6 2 2]\n",
      "[2 2 2 2 2 2 2 2 2 2 2 2]\n",
      "[2 2 2]\n",
      "[2 2 2 2 2 6 2 2]\n",
      "[1 1 1]\n",
      "[6 6]\n",
      "[6 6 6]\n",
      "[6]\n",
      "[5 5 5 1 5 6 5]\n",
      "[5 5]\n",
      "[6 6 6 6 6]\n",
      "[6]\n",
      "[2]\n",
      "[6 6 6 6 6 6 6 6]\n",
      "[6]\n",
      "[6]\n",
      "[1]\n",
      "[1]\n",
      "[1 6 6 1]\n",
      "[1 1]\n",
      "[2 2 2 2 2]\n",
      "[2 2 2 2 2 2 2]\n",
      "[2 2 6 2]\n",
      "[2 2 2 2 2]\n",
      "[6 1]\n",
      "[6 1 1]\n",
      "[6 3]\n",
      "[6 3 3 3 3]\n",
      "[3]\n",
      "[6]\n",
      "[2 2 2 2 2 2]\n",
      "[2 2]\n",
      "[1 6 1 1 6 6]\n",
      "[1]\n",
      "[3]\n",
      "[3 3 3 3 3 3 3 3 3]\n",
      "[3 3 3]\n",
      "[6]\n",
      "[6 1]\n",
      "[3 3]\n",
      "[6]\n",
      "[1]\n",
      "[1]\n",
      "[6]\n",
      "[1]\n",
      "[1]\n",
      "[6 1]\n",
      "[1 6 1 1]\n",
      "[1]\n",
      "[2]\n",
      "[6 1 1 1]\n",
      "[1 6 6 6 1 6 6]\n",
      "[1 1 1]\n",
      "[1]\n",
      "[6]\n",
      "[1]\n",
      "[1]\n",
      "[1 5 2 1 4 1 5 6 5 1 2 6 1 2 2 2 2 4 6 2 1 6 2 4 6 5 6 3 6 1 3 6 5 2 5 4 2\n",
      " 4 4 1 4 6 2 6 4 2 4 5 5 4 6 2 2 6 5 5 2 1 3 1 6 1 1 1 2 3 2 6 2 4 2 6 6 1\n",
      " 2 1 2 5 1 6 6 4 5 1 6 6 5 2 2 5 3 6 5 1 2 1 6 4 2 2 1 4 1 1 2 1 6 1 2 5 2\n",
      " 2 5 1 2 1 2 5 6 6 2 5 2 2 6 5 2 4 6 1 5 1 6 2 1 4 4 2 2 5 4 2 6 6 2 1 6 5\n",
      " 3 6 2 1 1 1 1 3 1 1 5 3 1 6 6 3 1 1 5 6 1 1 2 1 1 4 2 6 6 2 5 6 2 2 5 2 3\n",
      " 2 1 2 6 2 1 6 2 5 1 1 6 2 4 4 6 1 4 4 5 5 1 1 3 6 2 1 2 6 6 2 4 1 6 4 2 4\n",
      " 2 2 1 2 3 3 5 4 2 2 4 6 1 1 3 2 2 2 6 2 6 6 6 2 2 2 2 2 2 4 4 4 2 6 2 3 1\n",
      " 1 3 2 4 4 3 6 1 2 2 2 3 4 3 2 2 6 1 2 5 2 2 5 6 4 5 6 1 3 5 3 4 5 1 6 6 5\n",
      " 1 6 6 1 1 6 2 1 1 6 2 6 2 6 1 1 1 4 4 2 5 2 2 1 1 2 1 4 2 2 2 5 4 5 5 5 6\n",
      " 2 2 2 6 2 6 3 2 5 2 2 2 1 1 5 4 1 2 1 6 2 2 6 2 6 3 6]\n"
     ]
    }
   ],
   "source": [
    "import numpy as np\n",
    "\n",
    "# Perform label matching using the Hungarian algorithm\n",
    "y_true_matched = np.zeros_like(som_prediction)\n",
    "for i in np.unique(som_prediction):\n",
    "    mask = som_prediction == i\n",
    "    print(y[mask])\n",
    "    count = np.bincount(y[mask])\n",
    "    true_label = np.argmax(count)\n",
    "    y_true_matched[mask] = true_label\n",
    "\n",
    "print(y_true_matched)"
   ]
  },
  {
   "cell_type": "code",
   "execution_count": 190,
   "metadata": {},
   "outputs": [
    {
     "data": {
      "image/png": "[encoded data removed]",
      "text/plain": [
       "<Figure size 640x480 with 2 Axes>"
      ]
     },
     "metadata": {},
     "output_type": "display_data"
    }
   ],
   "source": [
    "import matplotlib.pyplot as plt\n",
    "from sklearn import metrics\n",
    "\n",
    "actual = y\n",
    "predicted = y_true_matched\n",
    "\n",
    "confusion_matrix = metrics.confusion_matrix(actual, predicted)\n",
    "\n",
    "cm_display = metrics.ConfusionMatrixDisplay(confusion_matrix = confusion_matrix)\n",
    "\n",
    "cm_display.plot()\n",
    "plt.show()"
   ]
  }
 ],
 "metadata": {
  "kernelspec": {
   "display_name": "Python 3",
   "language": "python",
   "name": "python3"
  },
  "language_info": {
   "codemirror_mode": {
    "name": "ipython",
    "version": 3
   },
   "file_extension": ".py",
   "mimetype": "text/x-python",
   "name": "python",
   "nbconvert_exporter": "python",
   "pygments_lexer": "ipython3",
   "version": "3.10.10"
  }
 },
 "nbformat": 4,
 "nbformat_minor": 2
}
