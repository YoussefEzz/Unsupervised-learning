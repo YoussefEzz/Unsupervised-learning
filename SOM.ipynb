{
 "cells": [
  {
   "cell_type": "code",
   "execution_count": 2,
   "metadata": {},
   "outputs": [
    {
     "name": "stdout",
     "output_type": "stream",
     "text": [
      "[[-3.16755250e-02 -9.91205374e+00 -5.79436176e-01 -1.04423881e+00]\n",
      " [ 2.52598694e-03  6.17245598e+00  3.28833907e+00 -1.00642749e+00]\n",
      " [ 1.83123266e-01 -3.87840555e-01  6.23646977e+00 -1.69149115e+00]\n",
      " ...\n",
      " [-6.68528740e-01 -6.07597209e-01  6.39294699e-01  4.32921341e+00]\n",
      " [-1.22710839e-01 -5.51695654e+00 -2.11117254e+00  2.20967467e+00]\n",
      " [ 7.40207379e-01 -7.49217616e+00  1.95942618e+00 -7.11991799e+00]]\n"
     ]
    }
   ],
   "source": [
    "import pandas as pd\n",
    "\n",
    "#read and parse the training set .csv features file \n",
    "df = pd.read_csv('Datasets/A3-data.txt', delimiter = ',')\n",
    "\n",
    "X = df[['x', 'y', 'z', 't']]\n",
    "y = df[['class']]\n",
    "y = y.to_numpy().flatten()\n",
    "print(X.to_numpy())"
   ]
  },
  {
   "cell_type": "code",
   "execution_count": 16,
   "metadata": {},
   "outputs": [
    {
     "name": "stdout",
     "output_type": "stream",
     "text": [
      "(360, 4)\n",
      "labels_map :  [22 67 70 26 80 69 78 69 78 49 64 52  3 63 70 75 75 90  1 54 47 32 74 90\n",
      " 52 68 69  0 72 23 10 49 87 83 97 80 94 91 90 50 90 34 73 86 90 94 91 87\n",
      " 78 90 79 84 95 97 78 67 95 51 10 47 77 49 56 27 64 10 83 57 63 80 64 32\n",
      " 79 21 83 36 63 87 22 72 92 91 77 58 77 86 89 83 74 89 10 66 98 50 44  9\n",
      " 76 80 74 93 59 91 51 57 83 52 57 26 73 67 73 60 88 57 54  1 83 78 90 57\n",
      " 83 87 94 74 59 67 54 91 57  8 78 59 46 85 56 80 91 63 70 99 90 93 57 97\n",
      " 65 58 66 88  0 97 54 47 48 41  8 10 69 51 76  0 12 99 50 10 13 51 96 72\n",
      " 52 39 44 42 37 80 64 62 26 61 77 72 63 95 68 94  0 93 30 93 59 74 37 58\n",
      " 70 98 28 37 72 94 90 91 48 47 81 90 77 67 58 23  0 69 54 32 83 62 81 85\n",
      " 90 22  1 90 94 90 70 75 48 45 10 10 99 91 62 74 80 97 58 50 10 75 64 64\n",
      " 24 60 77 52 99 64 75 93 93 54 60 90 90 91 85 49 73 10 51 21 10 74 90 90\n",
      "  1 62 31 64 85 73 10 90 10 85 65 82 42 45 67 94 83 67 77 80 76 52 69  0\n",
      " 99 10 80 78 68 22 34 67 52 26 72 14 59 77 93 12 23 72 84 26 64 86 42 19\n",
      " 50 90 90 95 99 70 95 12 57 45 56 91 84 70 94 98 90 96 88 78 72 83 83 54\n",
      " 34 44 21  0 70 77 63 84 45 22 38 77 90 43 64 37 79 75 54 87 75 50 10 22]\n",
      "(360,)\n",
      "(360, 100)\n",
      "[[ 6.55115136  6.24889449  5.18172748 ... 18.59655204 18.61847845\n",
      "  15.82993898]\n",
      " [13.33826349 14.28963978 13.5983197  ...  6.14518951  4.67052211\n",
      "   3.14876648]\n",
      " [10.74010349 11.12243964 10.07246555 ...  8.18880908  8.17556931\n",
      "   6.4320681 ]\n",
      " ...\n",
      " [ 5.45322764  6.10414875  6.09699253 ... 10.05588096 10.04673469\n",
      "   7.29146609]\n",
      " [ 1.35611024  2.37047179  1.75490047 ... 15.40177062 15.30562756\n",
      "  12.30822273]\n",
      " [11.44324851 11.71885478 10.24467725 ... 17.98537454 17.7114945\n",
      "  15.31377438]]\n"
     ]
    }
   ],
   "source": [
    "from sklearn_som.som import SOM\n",
    "import numpy as np\n",
    "import matplotlib.pyplot as plt\n",
    "\n",
    "#initialize\n",
    "som_model = SOM(m = 10, n = 10 , dim = 4)\n",
    "som_model.\n",
    "#fit\n",
    "som_model.fit(X.to_numpy())\n",
    "print(X.shape)\n",
    "\n",
    "#predict\n",
    "predicted_data = som_model.predict(X.to_numpy())\n",
    "print(\"labels_map : \", predicted_data.)\n",
    "print(predicted_data.shape)\n",
    "#transform\n",
    "transformed_data = som_model.transform(X)\n",
    "print(transformed_data.shape)\n",
    "\n",
    "print(transformed_data)"
   ]
  },
  {
   "cell_type": "code",
   "execution_count": 8,
   "metadata": {},
   "outputs": [
    {
     "name": "stdout",
     "output_type": "stream",
     "text": [
      "3\n"
     ]
    }
   ],
   "source": [
    "import numpy as np\n",
    "\n",
    "arr = [1, 5, 3, 7, 2]\n",
    "max_index = np.argmax(arr)\n",
    "print(max_index)"
   ]
  }
 ],
 "metadata": {
  "kernelspec": {
   "display_name": "Python 3",
   "language": "python",
   "name": "python3"
  },
  "language_info": {
   "codemirror_mode": {
    "name": "ipython",
    "version": 3
   },
   "file_extension": ".py",
   "mimetype": "text/x-python",
   "name": "python",
   "nbconvert_exporter": "python",
   "pygments_lexer": "ipython3",
   "version": "3.10.10"
  }
 },
 "nbformat": 4,
 "nbformat_minor": 2
}
